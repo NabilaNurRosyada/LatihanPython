{
 "cells": [
  {
   "cell_type": "code",
   "execution_count": 2,
   "id": "b7da28d6-e269-4f11-a30d-371643d44375",
   "metadata": {
    "tags": []
   },
   "outputs": [
    {
     "name": "stdout",
     "output_type": "stream",
     "text": [
      "b'<?xml version=\"1.0\" encoding=\"UTF-8\" ?>\\n<!DOCTYPE eInfoResult PUBLIC \"-//NLM//DTD einfo 20190110//EN\" \"https://eutils.ncbi.nlm.nih.gov/eutils/dtd/20190110/einfo.dtd\">\\n<eInfoResult>\\n<DbList>\\n\\n\\t<DbName>pubmed</DbName>\\n\\t<DbName>protein</DbName>\\n\\t<DbName>nuccore</DbName>\\n\\t<DbName>ipg</DbName>\\n\\t<DbName>nucleotide</DbName>\\n\\t<DbName>structure</DbName>\\n\\t<DbName>genome</DbName>\\n\\t<DbName>annotinfo</DbName>\\n\\t<DbName>assembly</DbName>\\n\\t<DbName>bioproject</DbName>\\n\\t<DbName>biosample</DbName>\\n\\t<DbName>blastdbinfo</DbName>\\n\\t<DbName>books</DbName>\\n\\t<DbName>cdd</DbName>\\n\\t<DbName>clinvar</DbName>\\n\\t<DbName>gap</DbName>\\n\\t<DbName>gapplus</DbName>\\n\\t<DbName>grasp</DbName>\\n\\t<DbName>dbvar</DbName>\\n\\t<DbName>gene</DbName>\\n\\t<DbName>gds</DbName>\\n\\t<DbName>geoprofiles</DbName>\\n\\t<DbName>homologene</DbName>\\n\\t<DbName>medgen</DbName>\\n\\t<DbName>mesh</DbName>\\n\\t<DbName>ncbisearch</DbName>\\n\\t<DbName>nlmcatalog</DbName>\\n\\t<DbName>omim</DbName>\\n\\t<DbName>orgtrack</DbName>\\n\\t<DbName>pmc</DbName>\\n\\t<DbName>popset</DbName>\\n\\t<DbName>proteinclusters</DbName>\\n\\t<DbName>pcassay</DbName>\\n\\t<DbName>protfam</DbName>\\n\\t<DbName>biosystems</DbName>\\n\\t<DbName>pccompound</DbName>\\n\\t<DbName>pcsubstance</DbName>\\n\\t<DbName>seqannot</DbName>\\n\\t<DbName>snp</DbName>\\n\\t<DbName>sra</DbName>\\n\\t<DbName>taxonomy</DbName>\\n\\t<DbName>biocollections</DbName>\\n\\t<DbName>gtr</DbName>\\n</DbList>\\n\\n</eInfoResult>\\n'\n"
     ]
    }
   ],
   "source": [
    "from Bio import Entrez\n",
    "Entrez.email = \"localuser@localhost.localdomain\" #Mandatory! Can be replaced with your personal email.\n",
    "\n",
    "#creating handle\n",
    "handle = Entrez.esearch(db=\"DBNAME\", term=\"KEYWORD\")\n",
    "record = Entrez.read(handle)\n",
    "print(record)\n",
    "handle.close() #always close your handle after you finish"
   ]
  },
  {
   "cell_type": "code",
   "execution_count": 3,
   "id": "29c25e86-4187-49e7-97c6-ec796bcfd036",
   "metadata": {},
   "outputs": [
    {
     "name": "stdout",
     "output_type": "stream",
     "text": [
      "{'Count': '473928', 'RetMax': '20', 'RetStart': '0', 'IdList': ['1371543667', '1371543556', '1018443273', '347360909', '347300291', '402766959', '350539634', '346644755', '350540645', '350540037', '350539818', '350539660', '350539466', '350538708', '347360912', '345842367', '345842331', '402766157', '350540027', '350539820'], 'TranslationSet': [{'From': 'Cricetulus griseus', 'To': '\"Cricetulus griseus\"[Organism] OR Cricetulus griseus[All Fields]'}], 'TranslationStack': [{'Term': '\"Cricetulus griseus\"[Organism]', 'Field': 'Organism', 'Count': '471309', 'Explode': 'Y'}, {'Term': 'Cricetulus griseus[All Fields]', 'Field': 'All Fields', 'Count': '473928', 'Explode': 'N'}, 'OR', 'GROUP'], 'QueryTranslation': '\"Cricetulus griseus\"[Organism] OR Cricetulus griseus[All Fields]'}\n"
     ]
    }
   ],
   "source": [
    "handle = Entrez.esearch(db=\"nuccore\", term=\"Cricetulus griseus\")\n",
    "record = Entrez.read(handle)\n",
    "print(record)\n",
    "handle.close() #always close your handle after you finish"
   ]
  },
  {
   "cell_type": "code",
   "execution_count": 4,
   "id": "2bca9cb2-24e8-4860-aaf7-4c6630a802da",
   "metadata": {},
   "outputs": [
    {
     "name": "stdout",
     "output_type": "stream",
     "text": [
      "{'Count': '14', 'RetMax': '14', 'RetStart': '0', 'IdList': ['1868100555', '1868078579', '1208044914', '1207836357', '344165021', '344164494', '6288747', '6288746', '6288745', '6288744', '134215694', '134215616', '344164810', '2661243'], 'TranslationSet': [{'From': 'Cricetulus griseus', 'To': '\"Cricetulus griseus\"[Organism] OR Cricetulus griseus[All Fields]'}], 'TranslationStack': [{'Term': '\"Cricetulus griseus\"[Organism]', 'Field': 'Organism', 'Count': '471309', 'Explode': 'Y'}, {'Term': 'Cricetulus griseus[All Fields]', 'Field': 'All Fields', 'Count': '473928', 'Explode': 'N'}, 'OR', 'GROUP', {'Term': 'tRNA-Sec[All Fields]', 'Field': 'All Fields', 'Count': '164900', 'Explode': 'N'}, 'AND', 'GROUP'], 'QueryTranslation': '(\"Cricetulus griseus\"[Organism] OR Cricetulus griseus[All Fields]) AND tRNA-Sec[All Fields]'}\n"
     ]
    }
   ],
   "source": [
    "#creating handle\n",
    "handle = Entrez.esearch(db=\"nuccore\", term=\"Cricetulus griseus tRNA-Sec\")\n",
    "record = Entrez.read(handle)\n",
    "print(record)\n",
    "handle.close() #always close your handle after you finish"
   ]
  },
  {
   "cell_type": "code",
   "execution_count": 5,
   "id": "1651c4b8-5eb3-4f5a-8a96-a3c2bd8045c0",
   "metadata": {},
   "outputs": [
    {
     "name": "stdout",
     "output_type": "stream",
     "text": [
      "LOCUS       AF133045                 695 bp    DNA     linear   ROD 07-JUL-2016\n",
      "DEFINITION  Cricetulus griseus tRNA-Sec (tRNA[Ser]Sec) gene, complete sequence.\n",
      "ACCESSION   AF133045\n",
      "VERSION     AF133045.1\n",
      "KEYWORDS    .\n",
      "SOURCE      Cricetulus griseus (Chinese hamster)\n",
      "  ORGANISM  Cricetulus griseus\n",
      "            Eukaryota; Metazoa; Chordata; Craniata; Vertebrata; Euteleostomi;\n",
      "            Mammalia; Eutheria; Euarchontoglires; Glires; Rodentia; Myomorpha;\n",
      "            Muroidea; Cricetidae; Cricetinae; Cricetulus.\n",
      "REFERENCE   1  (bases 1 to 695)\n",
      "  AUTHORS   Xu,X.M., Carlson,B.A., Kim,L.K., Lee,B.J., Hatfield,D.L. and\n",
      "            Diamond,A.M.\n",
      "  TITLE     Analysis of selenocysteine (Sec) tRNA([Ser]Sec) genes in Chinese\n",
      "            hamsters\n",
      "  JOURNAL   Gene 239 (1), 49-53 (1999)\n",
      "   PUBMED   10571033\n",
      "REFERENCE   2  (bases 1 to 695)\n",
      "  AUTHORS   Xu,X., Carlson,B.A., Kim,L.K., Lee,B.J., Hatfield,D.L. and\n",
      "            Diamond,A.M.\n",
      "  TITLE     Direct Submission\n",
      "  JOURNAL   Submitted (04-MAR-1999) Section on the Molecular Biology of\n",
      "            Selenium, Basic Research Laboratory, Building 37 Room 2D09,\n",
      "            National Cancer Institute,National Institutes of Health, 9000\n",
      "            Rockville Pike, Bethesda, MD 20892, USA\n",
      "FEATURES             Location/Qualifiers\n",
      "     source          1..695\n",
      "                     /organism=\"Cricetulus griseus\"\n",
      "                     /mol_type=\"genomic DNA\"\n",
      "                     /db_xref=\"taxon:10029\"\n",
      "                     /cell_line=\"K1\"\n",
      "                     /cell_type=\"chinese hamster ovary cells\"\n",
      "     gene            1..695\n",
      "                     /gene=\"tRNA[Ser]Sec\"\n",
      "ORIGIN      \n",
      "        1 aggcacggta ggcgccgctt cccagcatgc aaggcgctat gcaaatgagg ctacttattg\n",
      "       61 taatctagtg ggataattcg cggcatattt gtaaagaaaa gcatgttttc gctaaaacat\n",
      "      121 gtgagaagaa tgttgaaaat actagaattg gtcgtgtgtt attaaaaaaa gtagtcacca\n",
      "      181 caagtgtaaa aatttctgtt ttttgacctt tatatatgtg tccgaaaata gatacttctg\n",
      "      241 cccggatgat ctccagtggt ctggggtgca ggcttcaaac ctgtagctgt ttagcgacag\n",
      "      301 agtggttcaa ttccaccttt cgggcgggag tatctatccc attttgcttc ctgcaaccgg\n",
      "      361 tactatgtga caaactcctc taaatccccc tctattcgta tttattcctc ttcgtcatta\n",
      "      421 cttttttccg gtcccggaag gatccaacac atctcagaag tgtatttaaa tttgtcttct\n",
      "      481 acagttctag cgtattcctg tctgtctctg atgtctctcc ttcaacgatt tatttattat\n",
      "      541 tcatccagtc atttgctcga ttatgtattt aatcatgcgt gcagctctta gtcatatatt\n",
      "      601 tgttcatttg ttcactctgg ctcagtcctg tctctctatt tgagctgtat ggatggggac\n",
      "      661 acagttgtga tcacaccctt agccctggtc tcatg\n",
      "//\n",
      "\n",
      "\n"
     ]
    }
   ],
   "source": [
    "efetch_handle = Entrez.efetch(db=\"nuccore\", id=\"6288744\", rettype=\"gb\", retmode=\"text\")\n",
    "gbrecord = efetch_handle.read()\n",
    "print(gbrecord)"
   ]
  },
  {
   "cell_type": "code",
   "execution_count": 6,
   "id": "66fc69df-47c1-4c8c-a108-96e2a5097cf5",
   "metadata": {},
   "outputs": [
    {
     "name": "stdout",
     "output_type": "stream",
     "text": [
      ">AF133045.1 Cricetulus griseus tRNA-Sec (tRNA[Ser]Sec) gene, complete sequence\n",
      "AGGCACGGTAGGCGCCGCTTCCCAGCATGCAAGGCGCTATGCAAATGAGGCTACTTATTGTAATCTAGTG\n",
      "GGATAATTCGCGGCATATTTGTAAAGAAAAGCATGTTTTCGCTAAAACATGTGAGAAGAATGTTGAAAAT\n",
      "ACTAGAATTGGTCGTGTGTTATTAAAAAAAGTAGTCACCACAAGTGTAAAAATTTCTGTTTTTTGACCTT\n",
      "TATATATGTGTCCGAAAATAGATACTTCTGCCCGGATGATCTCCAGTGGTCTGGGGTGCAGGCTTCAAAC\n",
      "CTGTAGCTGTTTAGCGACAGAGTGGTTCAATTCCACCTTTCGGGCGGGAGTATCTATCCCATTTTGCTTC\n",
      "CTGCAACCGGTACTATGTGACAAACTCCTCTAAATCCCCCTCTATTCGTATTTATTCCTCTTCGTCATTA\n",
      "CTTTTTTCCGGTCCCGGAAGGATCCAACACATCTCAGAAGTGTATTTAAATTTGTCTTCTACAGTTCTAG\n",
      "CGTATTCCTGTCTGTCTCTGATGTCTCTCCTTCAACGATTTATTTATTATTCATCCAGTCATTTGCTCGA\n",
      "TTATGTATTTAATCATGCGTGCAGCTCTTAGTCATATATTTGTTCATTTGTTCACTCTGGCTCAGTCCTG\n",
      "TCTCTCTATTTGAGCTGTATGGATGGGGACACAGTTGTGATCACACCCTTAGCCCTGGTCTCATG\n",
      "\n",
      "\n"
     ]
    }
   ],
   "source": [
    "efetch_handle = Entrez.efetch(db=\"nuccore\", id=\"6288744\", rettype=\"fasta\", retmode=\"text\")\n",
    "gbrecord = efetch_handle.read()\n",
    "print(gbrecord)"
   ]
  },
  {
   "cell_type": "code",
   "execution_count": 7,
   "id": "824d5044-fd8c-4db4-b0ec-09a127c1951f",
   "metadata": {},
   "outputs": [
    {
     "name": "stdout",
     "output_type": "stream",
     "text": [
      "GenBank Download\n"
     ]
    }
   ],
   "source": [
    "import os # import os module for OS utilities\n",
    "from Bio import Entrez\n",
    "Entrez.email = \"localuser@localhost.localdomain\" #Mandatory! Can be replaced with your personal email.\n",
    "\n",
    "#creating EFetch handle\n",
    "filename = \"tRNA-Sec Cricetulus griseus.gbk\" #up to you, but Genbank files always use *.gb or *.gbk \n",
    "\n",
    "#creating EFetch handle\n",
    "if not os.path.isfile(filename):\n",
    "    # Downloading file...\n",
    "    efetch_handle = Entrez.efetch(db=\"nuccore\", id=\"6288744\", rettype=\"gb\", retmode=\"text\")\n",
    "    output_file_handle = open(filename, \"w\")\n",
    "    output_file_handle.write(efetch_handle.read())\n",
    "    output_file_handle.close()\n",
    "    efetch_handle.close()\n",
    "    print(\"GenBank Download\")"
   ]
  },
  {
   "cell_type": "code",
   "execution_count": 8,
   "id": "2e5f23ae-ae3b-4c23-850c-5d28ff723f46",
   "metadata": {},
   "outputs": [
    {
     "name": "stdout",
     "output_type": "stream",
     "text": [
      "FASTA Download\n"
     ]
    }
   ],
   "source": [
    "import os # import os module for OS utilities\n",
    "from Bio import Entrez\n",
    "Entrez.email = \"localuser@localhost.localdomain\" #Mandatory! Can be replaced with your personal email.\n",
    "\n",
    "#creating EFetch handle\n",
    "filename = \"tRNA-Sec Cricetulus griseus.fasta\" #up to you, but FASTA files always use *.fasta or *.fas \n",
    "\n",
    "#creating EFetch handle\n",
    "if not os.path.isfile(filename):\n",
    "    # Downloading file...\n",
    "    efetch_handle = Entrez.efetch(db=\"nuccore\", id=\"6288744\", rettype=\"fasta\", retmode=\"text\")\n",
    "    output_file_handle = open(filename, \"w\")\n",
    "    output_file_handle.write(efetch_handle.read())\n",
    "    output_file_handle.close()\n",
    "    efetch_handle.close()\n",
    "    print(\"FASTA Download\")"
   ]
  },
  {
   "cell_type": "code",
   "execution_count": 9,
   "id": "297360c8-3dc4-4f70-9c2c-f92282c8b96e",
   "metadata": {},
   "outputs": [
    {
     "name": "stdout",
     "output_type": "stream",
     "text": [
      "GB Download\n"
     ]
    }
   ],
   "source": [
    "#creating EFetch handle\n",
    "filename = \"Cricetulus griseus mitochondrion complete genome.gbk\" #up to you, but Genbank files always use *.gb or *.gbk \n",
    "\n",
    "#creating EFetch handle\n",
    "if not os.path.isfile(filename):\n",
    "    # Downloading file...\n",
    "    efetch_handle = Entrez.efetch(db=\"nuccore\", id=\"91176202\", rettype=\"gb\", retmode=\"text\")\n",
    "    output_file_handle = open(filename, \"w\")\n",
    "    output_file_handle.write(efetch_handle.read())\n",
    "    output_file_handle.close()\n",
    "    efetch_handle.close()\n",
    "    print(\"GB Download\")"
   ]
  },
  {
   "cell_type": "code",
   "execution_count": 10,
   "id": "73b86a61-52ed-437f-b1ee-a219a41a766c",
   "metadata": {},
   "outputs": [
    {
     "ename": "NameError",
     "evalue": "name 'gene_seq' is not defined",
     "output_type": "error",
     "traceback": [
      "\u001b[1;31m---------------------------------------------------------------------------\u001b[0m",
      "\u001b[1;31mNameError\u001b[0m                                 Traceback (most recent call last)",
      "Input \u001b[1;32mIn [10]\u001b[0m, in \u001b[0;36m<cell line: 15>\u001b[1;34m()\u001b[0m\n\u001b[0;32m     12\u001b[0m             \u001b[38;5;28;01mcontinue\u001b[39;00m\n\u001b[0;32m     13\u001b[0m         gene_seq \u001b[38;5;241m=\u001b[39m gene\u001b[38;5;241m.\u001b[39mextract(genome\u001b[38;5;241m.\u001b[39mseq)\n\u001b[1;32m---> 15\u001b[0m GoI_fasta \u001b[38;5;241m=\u001b[39m \u001b[38;5;124m\"\u001b[39m\u001b[38;5;124m>\u001b[39m\u001b[38;5;132;01m%s\u001b[39;00m\u001b[38;5;124m|\u001b[39m\u001b[38;5;132;01m%s\u001b[39;00m\u001b[38;5;130;01m\\n\u001b[39;00m\u001b[38;5;132;01m%s\u001b[39;00m\u001b[38;5;124m\"\u001b[39m \u001b[38;5;241m%\u001b[39m (GoI, genome\u001b[38;5;241m.\u001b[39mdescription, \u001b[43mgene_seq\u001b[49m)\n\u001b[0;32m     16\u001b[0m \u001b[38;5;28mprint\u001b[39m(GoI_fasta)\n",
      "\u001b[1;31mNameError\u001b[0m: name 'gene_seq' is not defined"
     ]
    }
   ],
   "source": [
    "from Bio import SeqIO\n",
    "\n",
    "GoI = \"tRNA-Sec\" #change \" tRNA-Sec\" here with your GoI\n",
    "\n",
    "for genome in SeqIO.parse(\"Cricetulus griseus mitochondrion complete genome.gbk\",\"genbank\"):\n",
    "    for gene in genome.features:\n",
    "        if gene.type != \"CDS\":\n",
    "            continue\n",
    "        if \"gene\" not in gene.qualifiers:\n",
    "            continue\n",
    "        if GoI not in gene.qualifiers[\"gene\"][0]: \n",
    "            continue\n",
    "        gene_seq = gene.extract(genome.seq)\n",
    "\n",
    "GoI_fasta = \">%s|%s\\n%s\" % (GoI, genome.description, gene_seq)\n",
    "print(GoI_fasta)"
   ]
  },
  {
   "cell_type": "code",
   "execution_count": 12,
   "id": "5656a0f1-ffb2-470d-a61e-c5f2ec1ee6a1",
   "metadata": {},
   "outputs": [
    {
     "name": "stdout",
     "output_type": "stream",
     "text": [
      ">CYTB|Cricetulus griseus mitochondrion, complete genome\n",
      "ATGACAATCATACGAAAAAAACACCCGCTAATAAAAATTATTAATCACGCATTCATTGATTTACCAGCCCCATCAAATATTTCATCATGATGAAATTTCGGATCATTAATCGGTCTTTGTCTGATTACACAAATTTTGACAGGATTATTCCTAGCTATACATTACACATCAGATACTACTACAGCATTCTCATCAGTCACCCACATTTGTCGAGATGTTAATTACGGCTGACTAATCCGCTACCTACACGCTAACGGAGCTTCAATATTCTTTATCTGCCTATTCCTTCATGTAGGACGAGGAGTTTATTACGGTTCATACACTATAGTAGAAACTTGAAACGTAGGTATTGTCCTACTATTCGCAGTAATAGCAACAGCATTTATAGGCTATGTACTACCATGAGGTCAAATATCATTCTGAGGAGCTACAGTAATCACTAACCTTTTATCAGCTATCCCTTATATAGGTACCACTCTAGTAGAATGAATCTGAGGGGGATTCTCTGTAGACAAAGCCACACTAACACGCTTCTTCGCATTCCATTTCATCCTACCATTCATTATCGCTGCCCTAGCAATGGTCCATCTTCTATTCCTACATGAAACCGGCTCTAATAACCCAACAGGCCTAGATTCTGACGCAGATAAAATTCCATTTCATCCCTACTATACTATTAAAGACCTACTAGGAGCCTTCATGCTATTAATTGCTCTCATAACTTTAGTATTGTTTTTCCCAGATATTTTAGGAGACCCTGATAATTATACTCCTGCAAATCCACTCAATACTCCCGCACACATTAAACCAGAATGATACTTCCTATTCGCCTACGCTATCCTACGATCTATCCCTAATAAACTAGGAGGAGTCCTAGCCCTAATCCTCTCTATCCTAATCCTAGCAACTCTACCATTACTACACACATCTAAACTTCGAACCATAATTTTTCGACCTATTACACAAACTATATACTGACTATTAGTAGCAGACCTATTACTCCTAACATGAATCGGAGGCCAACCAGTAGAATACCCATTCGTTATTATTGGACAAATTGCTTCTATTATATACTTCTCTATTATCGTTATTTTTATACCAATCGCCAGTATAATTGAAGATAGTGTACTAAAATTCACTTAA\n"
     ]
    }
   ],
   "source": [
    "from Bio import SeqIO\n",
    "\n",
    "GoI = \"CYTB\" #change \" CYTB\" here with your GoI\n",
    "\n",
    "for genome in SeqIO.parse(\"Cricetulus griseus mitochondrion complete genome.gbk\",\"genbank\"):\n",
    "    for gene in genome.features:\n",
    "        if gene.type != \"CDS\":\n",
    "            continue\n",
    "        if \"gene\" not in gene.qualifiers:\n",
    "            continue\n",
    "        if GoI not in gene.qualifiers[\"gene\"][0]: \n",
    "            continue\n",
    "        gene_seq = gene.extract(genome.seq)\n",
    "\n",
    "GoI_fasta = \">%s|%s\\n%s\" % (GoI, genome.description, gene_seq)\n",
    "print(GoI_fasta)"
   ]
  },
  {
   "cell_type": "code",
   "execution_count": null,
   "id": "09edb178-1280-4034-a898-528fee82aa1f",
   "metadata": {},
   "outputs": [],
   "source": []
  }
 ],
 "metadata": {
  "kernelspec": {
   "display_name": "Python 3 (ipykernel)",
   "language": "python",
   "name": "python3"
  },
  "language_info": {
   "codemirror_mode": {
    "name": "ipython",
    "version": 3
   },
   "file_extension": ".py",
   "mimetype": "text/x-python",
   "name": "python",
   "nbconvert_exporter": "python",
   "pygments_lexer": "ipython3",
   "version": "3.9.7"
  }
 },
 "nbformat": 4,
 "nbformat_minor": 5
}
